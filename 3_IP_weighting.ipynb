{
 "cells": [
  {
   "cell_type": "markdown",
   "id": "0b4131b8-e364-4afa-9faf-0844d7ff3b10",
   "metadata": {},
   "source": [
    "# Inverse Probability weighting\n",
    "Bs Vương Kiến Thanh\n",
    "\n",
    "Đây là bài tiếp theo của series Causal Survival Analysis. Ở bài trước tôi đã giới thiệu cách tìm survival curve thông qua phương pháp parametric là logistic.\n",
    "\n",
    "Sau khi fit mô hình, chúng ta suy luận được hiệu ứng của điều trị (`qsmk`: bỏ hút thuốc) tác động lên thời gian sống còn ($Pr(D|t)$ hay $S(t)$). Tuy nhiên, hiệu ứng đó chỉ thể hiện mối tương quan của nhau nhóm điều trị, chứ không phải hiệu ứng nhân quả.\n",
    "\n",
    "Để tìm hiệu ứng nhân quả, chúng ta có thể áp dụng hai phương pháp: *IP weighting* và *standardization*.\n",
    "\n",
    "## 1. Giới thiệu Inverse probability weighting\n",
    "Tạm gọi là *Trọng số xác suất nghịch*, hay *IP weighting*. Thông thường việc điều trị sẽ bị sai lệch (biased) bởi các hiệp biến. Ví dụ như người già, phụ nữ thì ít hút thuốc hơn. Nhiệm vụ của những *trọng số* này là tạo ra hai mẫu dân số **ảo** (pseudo-population) sao cho xác suất nhận điều trị ở hai mẫu này là bằng nhau.\n",
    "\n",
    "Gọi $L$ là các hiệp biến, $A$ là điều trị, phương pháp làm cho:\n",
    "$$ \\text{Pseudo}: Pr[A|L=l_1] = Pr[A|L=l_2]=... $$\n",
    "\n",
    "Để xem tại sao IP weighting lại làm được, ta xem ví dụ sau:"
   ]
  },
  {
   "cell_type": "markdown",
   "id": "a18a7587-ce7e-4c06-a3b1-6c737dda94ac",
   "metadata": {},
   "source": [
    "[![](https://mermaid.ink/img/eyJjb2RlIjoiZ3JhcGggVERcbmEoMjAgbmfGsOG7nWkpXG5hIC0tbF8xLS0tIGIoXCI4ICgwLjQpXCIgKVxuYSAtLWxfMi0tLSBjKFwiMTIgKDAuNilcIilcbmIgLS1cIkE9MFwiLS0tIGQoXCI0ICgwLjUpXCIpXG5iIC0tXCJBPTFcIi0tLSBlKFwiNCAoMC41KVwiKVxuZCAtLVwiWT0wXCItLS0gZigoXCIzICgwLjc1KVwiKSlcbmQgLS1cIlk9MVwiLS0tIGcoKFwiMSAoMC4yNSlcIikpXG5lIC0tXCJZPTBcIi0tLSBoKChcIjMgKDAuNzUpXCIpKVxuZSAtLVwiWT0xXCItLS0gaSgoXCIxICgwLjI1KVwiKSlcbmMgLS1cIkE9MFwiLS0tIGooXCIzICgwLjI1KVwiKVxuYyAtLVwiQT0xXCItLS0gayhcIjkgKDAuNzUpXCIpXG5qIC0tXCJZPTBcIi0tLSBsKChcIjEgKDEvMylcIikpXG5qIC0tXCJZPTFcIi0tLSBtKChcIjIgKDIvMylcIikpXG5rIC0tXCJZPTBcIi0tLSBuKChcIjMgKDEvMylcIikpXG5rIC0tXCJZPTFcIi0tLSBvKChcIjYgKDIvMylcIikpIiwibWVybWFpZCI6eyJ0aGVtZSI6ImRlZmF1bHQifSwidXBkYXRlRWRpdG9yIjpmYWxzZSwiYXV0b1N5bmMiOnRydWUsInVwZGF0ZURpYWdyYW0iOmZhbHNlfQ)](https://mermaid-js.github.io/mermaid-live-editor/edit##eyJjb2RlIjoiZ3JhcGggVERcbmEoMjAgbmfGsOG7nWkpXG4gLS1sXzEtLS0gYihcIjggKDAuNClcIiApXG5hIC0tbF8yLS0tIGMoXCIxMiAoMC42KVwiKVxuYiAtLVwiQT0wXCItLS0gZChcIjQgKDAuNSlcIilcbmIgLS1cIkE9MVwiLS0tIGUoXCI0ICgwLjUpXCIpXG5kIC0tXCJZPTBcIi0tLSBmKChcIjMgKDAuNzUpXCIpKVxuZCAtLVwiWT0xXCItLS0gZygoXCIxICgwLjI1KVwiKSlcbmUgLS1cIlk9MFwiLS0tIGgoKFwiMyAoMC43NSlcIikpXG5lIC0tXCJZPTFcIi0tLSBpKChcIjEgKDAuMjUpXCIpKVxuYyAtLVwiQT0wXCItLS0gaihcIjMgKDAuMjUpXCIpXG5jIC0tXCJBPTFcIi0tLSBrKFwiOSAoMC43NSlcIilcbmogLS1cIlk9MFwiLS0tIGwoKFwiMSAoMS8zKVwiKSlcbmogLS1cIlk9MVwiLS0tIG0oKFwiMiAoMi8zKVwiKSlcbmsgLS1cIlk9MFwiLS0tIG4oKFwiMyAoMS8zKVwiKSlcbmsgLS1cIlk9MVwiLS0tIG8oKFwiNiAoMi8zKVwiKSkiLCJtZXJtYWlkIjoie1xuICBcInRoZW1lXCI6IFwiZGVmYXVsdFwiXG59IiwidXBkYXRlRWRpdG9yIjpmYWxzZSwiYXV0b1N5bmMiOnRydWUsInVwZGF0ZURpYWdyYW0iOmZhbHNlfQ)"
   ]
  },
  {
   "cell_type": "markdown",
   "id": "6d0ed2e6-2e4c-4926-b0eb-eaa54b0d4d92",
   "metadata": {},
   "source": [
    "Bằng cách tính trọng số $W^A = 1/ Pr(A/L)$, ta có thể tạo ra những mẫu ảo để xác suất nhận được điều trị là như nhau."
   ]
  },
  {
   "cell_type": "markdown",
   "id": "fd5f9ad0-04b4-4ea6-9bc5-5be56ad669ae",
   "metadata": {},
   "source": [
    "[![](https://mermaid.ink/img/eyJjb2RlIjoiZ3JhcGggVERcbmEoXCI0MCBuZ8aw4budaSAo4bqjbylcIilcbmEgLS1sXzEtLS0gYihcIjE2ICgwLjQpXCIgKVxuYSAtLWxfMi0tLSBjKFwiMjQgKDAuNilcIilcbmIgLS1cIkE9MFwiLS0tIGQoOD00KjIpXG5iIC0tXCJBPTFcIi0tLSBlKDg9NCoyKVxuZCAtLVwiWT0wXCItLS0gZigoXCI2ICgwLjc1KVwiKSlcbmQgLS1cIlk9MVwiLS0tIGcoKFwiMiAoMC4yNSlcIikpXG5lIC0tXCJZPTBcIi0tLSBoKChcIjYgKDAuNzUpXCIpKVxuZSAtLVwiWT0xXCItLS0gaSgoXCIyICgwLjI1KVwiKSlcbmMgLS1cIkE9MFwiLS0tIGooXCIxMj0zKjRcIilcbmMgLS1cIkE9MVwiLS0tIGsoXCIxMj05KjEuMzNcIilcbmogLS1cIlk9MFwiLS0tIGwoKFwiNCAoMS8zKVwiKSlcbmogLS1cIlk9MVwiLS0tIG0oKFwiOCAoMi8zKVwiKSlcbmsgLS1cIlk9MFwiLS0tIG4oKFwiNCAoMS8zKVwiKSlcbmsgLS1cIlk9MVwiLS0tIG8oKFwiOCAoMi8zKVwiKSlcbmYgLS4tPiBwWzEvLjU9Ml1cbmcgLS4tPiBxWzEvLjU9Ml1cbmggLS4tPiByWzEvLjU9Ml1cbmkgLS4tPiBzWzEvLjU9Ml1cbmwgLS4tPiB0WzEvLjI1PTRdXG5tIC0uLT4gdVsxLy4yNT00XVxubiAtLi0-IHZbMS8uNzU9MS4zM11cbm8gLS4tPiB3WzEvLjc1PTEuMzNdIiwibWVybWFpZCI6eyJ0aGVtZSI6ImRlZmF1bHQifSwidXBkYXRlRWRpdG9yIjpmYWxzZSwiYXV0b1N5bmMiOnRydWUsInVwZGF0ZURpYWdyYW0iOmZhbHNlfQ)](https://mermaid-js.github.io/mermaid-live-editor/edit##eyJjb2RlIjoiZ3JhcGggVERcbmEoXCI0MCBuZ8aw4budaSAo4bqjbylcIilcbmEgLS1sXzEtLS0gYihcIjE2ICgwLjQpXCIgKVxuYSAtLWxfMi0tLSBjKFwiMjQgKDAuNilcIilcbmIgLS1cIkE9MFwiLS0tIGQoOD00KjIpXG5iIC0tXCJBPTFcIi0tLSBlKDg9NCoyKVxuZCAtLVwiWT0wXCItLS0gZigoXCI2ICgwLjc1KVwiKSlcbmQgLS1cIlk9MVwiLS0tIGcoKFwiMiAoMC4yNSlcIikpXG5lIC0tXCJZPTBcIi0tLSBoKChcIjYgKDAuNzUpXCIpKVxuZSAtLVwiWT0xXCItLS0gaSgoXCIyICgwLjI1KVwiKSlcbmMgLS1cIkE9MFwiLS0tIGooXCIxMj0zKjRcIilcbmMgLS1cIkE9MVwiLS0tIGsoXCIxMj0qMS4zM1wiKVxuaiAtLVwiWT0wXCItLS0gbCgoXCI0ICgxLzMpXCIpKVxuaiAtLVwiWT0xXCItLS0gbSgoXCI4ICgyLzMpXCIpKVxuayAtLVwiWT0wXCItLS0gbigoXCI0ICgxLzMpXCIpKVxuayAtLVwiWT0xXCItLS0gbygoXCI4ICgyLzMpXCIpKVxuZiAtLi0-IHBbMS8uNT0yXVxuZyAtLi0-IHFbMS8uNT0yXVxuaCAtLi0-IHJbMS8uNT0yXVxuaSAtLi0-IHNbMS8uNT0yXVxubCAtLi0-IHRbMS8uMjU9NF1cbm0gLS4tPiB1WzEvLjI1PTRdXG5uIC0uLT4gdlsxLy43NT0xLjMzXVxubyAtLi0-IHdbMS8uNzU9MS4zM10iLCJtZXJtYWlkIjoie1xuICBcInRoZW1lXCI6IFwiZGVmYXVsdFwiXG59IiwidXBkYXRlRWRpdG9yIjpmYWxzZSwiYXV0b1N5bmMiOnRydWUsInVwZGF0ZURpYWdyYW0iOmZhbHNlfQ)"
   ]
  },
  {
   "cell_type": "markdown",
   "id": "e529ab33-b63c-4828-80ce-4344a1df5d92",
   "metadata": {},
   "source": [
    "## 2. IP weighting khi $L$ có nhiều đặc trưng (features)\n",
    "Trong ví dụ trên chúng ta phương pháp non-parametric để ước lượng IP weights. Tuy nhiên khi số lượng hiệp biến tăng thì chúng ta phải dùng model.  \n",
    "Mô hình đơn giản nhất là dùng logistic.\n",
    "\n",
    "Bộ dataset tiếp tục là của NHEFS. Trong đó Điều trị (`A`) là `qsmk`, Kết cục (`D`) là `death`, và 9 hiệp biến còn lại (`L`) là `['age','sex','race','education','wt71','smokeintensity','smokeyrs','exercise','active']`"
   ]
  },
  {
   "cell_type": "code",
   "execution_count": 1,
   "id": "a3222ddc-9e98-414b-88e5-a00d9a90e53f",
   "metadata": {},
   "outputs": [],
   "source": [
    "import pandas as pd\n",
    "import numpy as np\n",
    "import matplotlib.pyplot as plt\n",
    "from sklearn.linear_model import LogisticRegression\n",
    "from sklearn.preprocessing import StandardScaler"
   ]
  },
  {
   "cell_type": "code",
   "execution_count": 2,
   "id": "a21f96f0-259c-423a-bd40-cb3c94f13040",
   "metadata": {},
   "outputs": [],
   "source": [
    "col_info = pd.read_excel(\n",
    "    r'https://cdn1.sph.harvard.edu/wp-content/uploads/sites/1268/2012/10/NHEFS_Codebook.xls')\n",
    "A=['qsmk']\n",
    "D=['death']\n",
    "L=['age','sex','race','education','wt71','smokeintensity','smokeyrs','exercise','active']\n",
    "df = pd.read_csv(\n",
    "    r'https://cdn1.sph.harvard.edu/wp-content/uploads/sites/1268/1268/20/nhefs.csv',\n",
    "    usecols=A+D+L)"
   ]
  },
  {
   "cell_type": "code",
   "execution_count": 3,
   "id": "1b5d15a3-b3e8-4eec-bc1d-85998e82fb32",
   "metadata": {},
   "outputs": [
    {
     "data": {
      "text/html": [
       "<div>\n",
       "<style scoped>\n",
       "    .dataframe tbody tr th:only-of-type {\n",
       "        vertical-align: middle;\n",
       "    }\n",
       "\n",
       "    .dataframe tbody tr th {\n",
       "        vertical-align: top;\n",
       "    }\n",
       "\n",
       "    .dataframe thead th {\n",
       "        text-align: right;\n",
       "    }\n",
       "</style>\n",
       "<table border=\"1\" class=\"dataframe\">\n",
       "  <thead>\n",
       "    <tr style=\"text-align: right;\">\n",
       "      <th></th>\n",
       "      <th>qsmk</th>\n",
       "      <th>death</th>\n",
       "      <th>sex</th>\n",
       "      <th>age</th>\n",
       "      <th>race</th>\n",
       "      <th>education</th>\n",
       "      <th>wt71</th>\n",
       "      <th>smokeintensity</th>\n",
       "      <th>smokeyrs</th>\n",
       "      <th>active</th>\n",
       "      <th>exercise</th>\n",
       "    </tr>\n",
       "  </thead>\n",
       "  <tbody>\n",
       "    <tr>\n",
       "      <th>0</th>\n",
       "      <td>0</td>\n",
       "      <td>0</td>\n",
       "      <td>0</td>\n",
       "      <td>42</td>\n",
       "      <td>1</td>\n",
       "      <td>1</td>\n",
       "      <td>79.04</td>\n",
       "      <td>30</td>\n",
       "      <td>29</td>\n",
       "      <td>0</td>\n",
       "      <td>2</td>\n",
       "    </tr>\n",
       "    <tr>\n",
       "      <th>1</th>\n",
       "      <td>0</td>\n",
       "      <td>0</td>\n",
       "      <td>0</td>\n",
       "      <td>36</td>\n",
       "      <td>0</td>\n",
       "      <td>2</td>\n",
       "      <td>58.63</td>\n",
       "      <td>20</td>\n",
       "      <td>24</td>\n",
       "      <td>0</td>\n",
       "      <td>0</td>\n",
       "    </tr>\n",
       "    <tr>\n",
       "      <th>2</th>\n",
       "      <td>0</td>\n",
       "      <td>0</td>\n",
       "      <td>1</td>\n",
       "      <td>56</td>\n",
       "      <td>1</td>\n",
       "      <td>2</td>\n",
       "      <td>56.81</td>\n",
       "      <td>20</td>\n",
       "      <td>26</td>\n",
       "      <td>0</td>\n",
       "      <td>2</td>\n",
       "    </tr>\n",
       "    <tr>\n",
       "      <th>3</th>\n",
       "      <td>0</td>\n",
       "      <td>1</td>\n",
       "      <td>0</td>\n",
       "      <td>68</td>\n",
       "      <td>1</td>\n",
       "      <td>1</td>\n",
       "      <td>59.42</td>\n",
       "      <td>3</td>\n",
       "      <td>53</td>\n",
       "      <td>1</td>\n",
       "      <td>2</td>\n",
       "    </tr>\n",
       "    <tr>\n",
       "      <th>4</th>\n",
       "      <td>0</td>\n",
       "      <td>0</td>\n",
       "      <td>0</td>\n",
       "      <td>40</td>\n",
       "      <td>0</td>\n",
       "      <td>2</td>\n",
       "      <td>87.09</td>\n",
       "      <td>20</td>\n",
       "      <td>19</td>\n",
       "      <td>1</td>\n",
       "      <td>1</td>\n",
       "    </tr>\n",
       "  </tbody>\n",
       "</table>\n",
       "</div>"
      ],
      "text/plain": [
       "   qsmk  death  sex  age  race  education   wt71  smokeintensity  smokeyrs  \\\n",
       "0     0      0    0   42     1          1  79.04              30        29   \n",
       "1     0      0    0   36     0          2  58.63              20        24   \n",
       "2     0      0    1   56     1          2  56.81              20        26   \n",
       "3     0      1    0   68     1          1  59.42               3        53   \n",
       "4     0      0    0   40     0          2  87.09              20        19   \n",
       "\n",
       "   active  exercise  \n",
       "0       0         2  \n",
       "1       0         0  \n",
       "2       0         2  \n",
       "3       1         2  \n",
       "4       1         1  "
      ]
     },
     "execution_count": 3,
     "metadata": {},
     "output_type": "execute_result"
    }
   ],
   "source": [
    "df.head()"
   ]
  },
  {
   "cell_type": "markdown",
   "id": "26f873f0-6de5-42d3-b4c1-ae1d9fa9be30",
   "metadata": {},
   "source": [
    "### Bước 1: Tìm $Pr[A|L]$"
   ]
  },
  {
   "cell_type": "markdown",
   "id": "e1dc0055-08ca-4a00-896b-dbc07085074b",
   "metadata": {},
   "source": [
    "Bình phương các biến định lượng"
   ]
  },
  {
   "cell_type": "code",
   "execution_count": 4,
   "id": "b2cf48b3-4651-4a74-b6c7-f664cc3b24c3",
   "metadata": {},
   "outputs": [],
   "source": [
    "continuous = ['age', 'wt71','smokeintensity','smokeyrs']\n",
    "categorical = ['sex', 'race','education','active','exercise']\n",
    "quadratic = [x+'_2' for x in continuous]\n",
    "for q,c in zip(quadratic, continuous):\n",
    "    df[q] = df[c]**2"
   ]
  },
  {
   "cell_type": "markdown",
   "id": "383edecd-1b31-44f6-a504-c71223d3d8a6",
   "metadata": {},
   "source": [
    "Standardize các biến định lượng"
   ]
  },
  {
   "cell_type": "code",
   "execution_count": 5,
   "id": "94a4d6be-d5f1-4b5b-9448-c398c31bfba8",
   "metadata": {},
   "outputs": [
    {
     "data": {
      "text/html": [
       "<div>\n",
       "<style scoped>\n",
       "    .dataframe tbody tr th:only-of-type {\n",
       "        vertical-align: middle;\n",
       "    }\n",
       "\n",
       "    .dataframe tbody tr th {\n",
       "        vertical-align: top;\n",
       "    }\n",
       "\n",
       "    .dataframe thead th {\n",
       "        text-align: right;\n",
       "    }\n",
       "</style>\n",
       "<table border=\"1\" class=\"dataframe\">\n",
       "  <thead>\n",
       "    <tr style=\"text-align: right;\">\n",
       "      <th></th>\n",
       "      <th>qsmk</th>\n",
       "      <th>death</th>\n",
       "      <th>sex</th>\n",
       "      <th>age</th>\n",
       "      <th>race</th>\n",
       "      <th>education</th>\n",
       "      <th>wt71</th>\n",
       "      <th>smokeintensity</th>\n",
       "      <th>smokeyrs</th>\n",
       "      <th>active</th>\n",
       "      <th>exercise</th>\n",
       "      <th>age_2</th>\n",
       "      <th>wt71_2</th>\n",
       "      <th>smokeintensity_2</th>\n",
       "      <th>smokeyrs_2</th>\n",
       "    </tr>\n",
       "  </thead>\n",
       "  <tbody>\n",
       "    <tr>\n",
       "      <th>0</th>\n",
       "      <td>0</td>\n",
       "      <td>0</td>\n",
       "      <td>0</td>\n",
       "      <td>-0.157420</td>\n",
       "      <td>1</td>\n",
       "      <td>1</td>\n",
       "      <td>0.507980</td>\n",
       "      <td>0.800732</td>\n",
       "      <td>0.338593</td>\n",
       "      <td>0</td>\n",
       "      <td>2</td>\n",
       "      <td>-0.280586</td>\n",
       "      <td>0.380688</td>\n",
       "      <td>0.542389</td>\n",
       "      <td>0.108418</td>\n",
       "    </tr>\n",
       "    <tr>\n",
       "      <th>1</th>\n",
       "      <td>0</td>\n",
       "      <td>0</td>\n",
       "      <td>0</td>\n",
       "      <td>-0.650570</td>\n",
       "      <td>0</td>\n",
       "      <td>2</td>\n",
       "      <td>-0.789973</td>\n",
       "      <td>-0.046716</td>\n",
       "      <td>-0.071434</td>\n",
       "      <td>0</td>\n",
       "      <td>0</td>\n",
       "      <td>-0.700683</td>\n",
       "      <td>-0.743335</td>\n",
       "      <td>-0.259007</td>\n",
       "      <td>-0.281271</td>\n",
       "    </tr>\n",
       "    <tr>\n",
       "      <th>2</th>\n",
       "      <td>0</td>\n",
       "      <td>0</td>\n",
       "      <td>1</td>\n",
       "      <td>0.993262</td>\n",
       "      <td>1</td>\n",
       "      <td>2</td>\n",
       "      <td>-0.905714</td>\n",
       "      <td>-0.046716</td>\n",
       "      <td>0.092577</td>\n",
       "      <td>0</td>\n",
       "      <td>2</td>\n",
       "      <td>0.950980</td>\n",
       "      <td>-0.827381</td>\n",
       "      <td>-0.259007</td>\n",
       "      <td>-0.134219</td>\n",
       "    </tr>\n",
       "    <tr>\n",
       "      <th>3</th>\n",
       "      <td>0</td>\n",
       "      <td>1</td>\n",
       "      <td>0</td>\n",
       "      <td>1.979561</td>\n",
       "      <td>1</td>\n",
       "      <td>1</td>\n",
       "      <td>-0.739733</td>\n",
       "      <td>-1.487378</td>\n",
       "      <td>2.306721</td>\n",
       "      <td>1</td>\n",
       "      <td>2</td>\n",
       "      <td>2.286672</td>\n",
       "      <td>-0.706028</td>\n",
       "      <td>-0.885698</td>\n",
       "      <td>3.002413</td>\n",
       "    </tr>\n",
       "    <tr>\n",
       "      <th>4</th>\n",
       "      <td>0</td>\n",
       "      <td>0</td>\n",
       "      <td>0</td>\n",
       "      <td>-0.321804</td>\n",
       "      <td>0</td>\n",
       "      <td>2</td>\n",
       "      <td>1.019912</td>\n",
       "      <td>-0.046716</td>\n",
       "      <td>-0.481460</td>\n",
       "      <td>1</td>\n",
       "      <td>1</td>\n",
       "      <td>-0.427799</td>\n",
       "      <td>0.915667</td>\n",
       "      <td>-0.259007</td>\n",
       "      <td>-0.597434</td>\n",
       "    </tr>\n",
       "  </tbody>\n",
       "</table>\n",
       "</div>"
      ],
      "text/plain": [
       "   qsmk  death  sex       age  race  education      wt71  smokeintensity  \\\n",
       "0     0      0    0 -0.157420     1          1  0.507980        0.800732   \n",
       "1     0      0    0 -0.650570     0          2 -0.789973       -0.046716   \n",
       "2     0      0    1  0.993262     1          2 -0.905714       -0.046716   \n",
       "3     0      1    0  1.979561     1          1 -0.739733       -1.487378   \n",
       "4     0      0    0 -0.321804     0          2  1.019912       -0.046716   \n",
       "\n",
       "   smokeyrs  active  exercise     age_2    wt71_2  smokeintensity_2  \\\n",
       "0  0.338593       0         2 -0.280586  0.380688          0.542389   \n",
       "1 -0.071434       0         0 -0.700683 -0.743335         -0.259007   \n",
       "2  0.092577       0         2  0.950980 -0.827381         -0.259007   \n",
       "3  2.306721       1         2  2.286672 -0.706028         -0.885698   \n",
       "4 -0.481460       1         1 -0.427799  0.915667         -0.259007   \n",
       "\n",
       "   smokeyrs_2  \n",
       "0    0.108418  \n",
       "1   -0.281271  \n",
       "2   -0.134219  \n",
       "3    3.002413  \n",
       "4   -0.597434  "
      ]
     },
     "execution_count": 5,
     "metadata": {},
     "output_type": "execute_result"
    }
   ],
   "source": [
    "scalers = dict()\n",
    "for col in continuous + quadratic:\n",
    "    scalers[col] = StandardScaler()\n",
    "    df[col] = scalers[col].fit_transform(df[[col]])\n",
    "df.head()"
   ]
  },
  {
   "cell_type": "code",
   "execution_count": 6,
   "id": "b1d4ef19-e1b0-4454-867a-68370aee4d33",
   "metadata": {},
   "outputs": [
    {
     "data": {
      "text/plain": [
       "LogisticRegression()"
      ]
     },
     "execution_count": 6,
     "metadata": {},
     "output_type": "execute_result"
    }
   ],
   "source": [
    "m1 = LogisticRegression()\n",
    "m1.fit(\n",
    "    X=df[continuous + quadratic + categorical],\n",
    "    y=df[A].values.ravel())"
   ]
  },
  {
   "cell_type": "markdown",
   "id": "a551cf32-28c4-47bc-9420-63c454c02069",
   "metadata": {},
   "source": [
    "### Bước 2: Nghịch đảo xác suất  $W^A = \\frac{1}{Pr[A=a|L]}$"
   ]
  },
  {
   "cell_type": "code",
   "execution_count": 7,
   "id": "61c77b00-23ad-4513-8017-5443a337b7b1",
   "metadata": {},
   "outputs": [],
   "source": [
    "probs = m1.predict_proba(df[continuous + quadratic + categorical])\n",
    "df['IP_weight'] = np.reciprocal(np.where(df['qsmk']==0, probs[:,0], probs[:,1]))"
   ]
  },
  {
   "cell_type": "code",
   "execution_count": 8,
   "id": "13e6837a-fe67-4132-bb9c-faca752c9179",
   "metadata": {},
   "outputs": [
    {
     "data": {
      "text/html": [
       "<div>\n",
       "<style scoped>\n",
       "    .dataframe tbody tr th:only-of-type {\n",
       "        vertical-align: middle;\n",
       "    }\n",
       "\n",
       "    .dataframe tbody tr th {\n",
       "        vertical-align: top;\n",
       "    }\n",
       "\n",
       "    .dataframe thead th {\n",
       "        text-align: right;\n",
       "    }\n",
       "</style>\n",
       "<table border=\"1\" class=\"dataframe\">\n",
       "  <thead>\n",
       "    <tr style=\"text-align: right;\">\n",
       "      <th></th>\n",
       "      <th>qsmk</th>\n",
       "      <th>death</th>\n",
       "      <th>sex</th>\n",
       "      <th>age</th>\n",
       "      <th>race</th>\n",
       "      <th>education</th>\n",
       "      <th>wt71</th>\n",
       "      <th>smokeintensity</th>\n",
       "      <th>smokeyrs</th>\n",
       "      <th>active</th>\n",
       "      <th>exercise</th>\n",
       "      <th>age_2</th>\n",
       "      <th>wt71_2</th>\n",
       "      <th>smokeintensity_2</th>\n",
       "      <th>smokeyrs_2</th>\n",
       "      <th>IP_weight</th>\n",
       "    </tr>\n",
       "  </thead>\n",
       "  <tbody>\n",
       "    <tr>\n",
       "      <th>0</th>\n",
       "      <td>0</td>\n",
       "      <td>0</td>\n",
       "      <td>0</td>\n",
       "      <td>-0.157420</td>\n",
       "      <td>1</td>\n",
       "      <td>1</td>\n",
       "      <td>0.507980</td>\n",
       "      <td>0.800732</td>\n",
       "      <td>0.338593</td>\n",
       "      <td>0</td>\n",
       "      <td>2</td>\n",
       "      <td>-0.280586</td>\n",
       "      <td>0.380688</td>\n",
       "      <td>0.542389</td>\n",
       "      <td>0.108418</td>\n",
       "      <td>1.117128</td>\n",
       "    </tr>\n",
       "    <tr>\n",
       "      <th>1</th>\n",
       "      <td>0</td>\n",
       "      <td>0</td>\n",
       "      <td>0</td>\n",
       "      <td>-0.650570</td>\n",
       "      <td>0</td>\n",
       "      <td>2</td>\n",
       "      <td>-0.789973</td>\n",
       "      <td>-0.046716</td>\n",
       "      <td>-0.071434</td>\n",
       "      <td>0</td>\n",
       "      <td>0</td>\n",
       "      <td>-0.700683</td>\n",
       "      <td>-0.743335</td>\n",
       "      <td>-0.259007</td>\n",
       "      <td>-0.281271</td>\n",
       "      <td>1.204552</td>\n",
       "    </tr>\n",
       "    <tr>\n",
       "      <th>2</th>\n",
       "      <td>0</td>\n",
       "      <td>0</td>\n",
       "      <td>1</td>\n",
       "      <td>0.993262</td>\n",
       "      <td>1</td>\n",
       "      <td>2</td>\n",
       "      <td>-0.905714</td>\n",
       "      <td>-0.046716</td>\n",
       "      <td>0.092577</td>\n",
       "      <td>0</td>\n",
       "      <td>2</td>\n",
       "      <td>0.950980</td>\n",
       "      <td>-0.827381</td>\n",
       "      <td>-0.259007</td>\n",
       "      <td>-0.134219</td>\n",
       "      <td>1.177777</td>\n",
       "    </tr>\n",
       "    <tr>\n",
       "      <th>3</th>\n",
       "      <td>0</td>\n",
       "      <td>1</td>\n",
       "      <td>0</td>\n",
       "      <td>1.979561</td>\n",
       "      <td>1</td>\n",
       "      <td>1</td>\n",
       "      <td>-0.739733</td>\n",
       "      <td>-1.487378</td>\n",
       "      <td>2.306721</td>\n",
       "      <td>1</td>\n",
       "      <td>2</td>\n",
       "      <td>2.286672</td>\n",
       "      <td>-0.706028</td>\n",
       "      <td>-0.885698</td>\n",
       "      <td>3.002413</td>\n",
       "      <td>1.710404</td>\n",
       "    </tr>\n",
       "    <tr>\n",
       "      <th>4</th>\n",
       "      <td>0</td>\n",
       "      <td>0</td>\n",
       "      <td>0</td>\n",
       "      <td>-0.321804</td>\n",
       "      <td>0</td>\n",
       "      <td>2</td>\n",
       "      <td>1.019912</td>\n",
       "      <td>-0.046716</td>\n",
       "      <td>-0.481460</td>\n",
       "      <td>1</td>\n",
       "      <td>1</td>\n",
       "      <td>-0.427799</td>\n",
       "      <td>0.915667</td>\n",
       "      <td>-0.259007</td>\n",
       "      <td>-0.597434</td>\n",
       "      <td>1.411743</td>\n",
       "    </tr>\n",
       "  </tbody>\n",
       "</table>\n",
       "</div>"
      ],
      "text/plain": [
       "   qsmk  death  sex       age  race  education      wt71  smokeintensity  \\\n",
       "0     0      0    0 -0.157420     1          1  0.507980        0.800732   \n",
       "1     0      0    0 -0.650570     0          2 -0.789973       -0.046716   \n",
       "2     0      0    1  0.993262     1          2 -0.905714       -0.046716   \n",
       "3     0      1    0  1.979561     1          1 -0.739733       -1.487378   \n",
       "4     0      0    0 -0.321804     0          2  1.019912       -0.046716   \n",
       "\n",
       "   smokeyrs  active  exercise     age_2    wt71_2  smokeintensity_2  \\\n",
       "0  0.338593       0         2 -0.280586  0.380688          0.542389   \n",
       "1 -0.071434       0         0 -0.700683 -0.743335         -0.259007   \n",
       "2  0.092577       0         2  0.950980 -0.827381         -0.259007   \n",
       "3  2.306721       1         2  2.286672 -0.706028         -0.885698   \n",
       "4 -0.481460       1         1 -0.427799  0.915667         -0.259007   \n",
       "\n",
       "   smokeyrs_2  IP_weight  \n",
       "0    0.108418   1.117128  \n",
       "1   -0.281271   1.204552  \n",
       "2   -0.134219   1.177777  \n",
       "3    3.002413   1.710404  \n",
       "4   -0.597434   1.411743  "
      ]
     },
     "execution_count": 8,
     "metadata": {},
     "output_type": "execute_result"
    }
   ],
   "source": [
    "df.head()"
   ]
  },
  {
   "cell_type": "code",
   "execution_count": 9,
   "id": "fbd68674-1181-4f7b-88d0-4d3a9d683133",
   "metadata": {},
   "outputs": [
    {
     "data": {
      "text/plain": [
       "count    1629.000000\n",
       "mean        1.989756\n",
       "std         1.372395\n",
       "min         1.058247\n",
       "25%         1.244266\n",
       "50%         1.394110\n",
       "75%         2.010936\n",
       "max        14.661135\n",
       "Name: IP_weight, dtype: float64"
      ]
     },
     "execution_count": 9,
     "metadata": {},
     "output_type": "execute_result"
    }
   ],
   "source": [
    "df['IP_weight'].describe()"
   ]
  },
  {
   "cell_type": "markdown",
   "id": "ee0ab3da-5463-4644-80be-0794e11ea598",
   "metadata": {},
   "source": [
    "## 3. Stabilized IP weights\n",
    "Nhiệm vụ chính của phương pháp này là làm cho $A$ không phụ thuộc vào $L$. Cho nên nếu muốn xác suất nhận được điều trị ở một nhóm ảo là 0.5, bạn có thể dùng $0.5/Pr[A|L]$. Khi có trọng số sẽ có trung bình là 1 và cho kết quả hiệu ứng là như nhau. Thực vậy, bạn có thể chọn bất kì $p$ nào thỏa $0<p\\leq1$ cho từng mẫu dân số ảo.\n",
    "\n",
    "Một phương pháp thông dụng là dùng chính xác suất điều trị trong dataset cho nhóm (ảo) nhận điều trị, và ngược lại.\n",
    "$$SW^A = \\frac{Pr[A=a]}{Pr[A=a|L]}$$\n",
    "\n"
   ]
  },
  {
   "cell_type": "code",
   "execution_count": 17,
   "id": "a2347cd9-d75a-4355-967f-5187c1c86665",
   "metadata": {},
   "outputs": [
    {
     "data": {
      "text/plain": [
       "count    1629.000000\n",
       "mean        0.996582\n",
       "std         0.260461\n",
       "min         0.334482\n",
       "25%         0.871781\n",
       "50%         0.954733\n",
       "75%         1.075077\n",
       "max         3.852035\n",
       "Name: IP_weight_stb, dtype: float64"
      ]
     },
     "execution_count": 17,
     "metadata": {},
     "output_type": "execute_result"
    }
   ],
   "source": [
    "pa0 = (df['qsmk']==0).sum() / df['qsmk'].size\n",
    "pa1 = (df['qsmk']==1).sum() / df['qsmk'].size\n",
    "\n",
    "df['IP_weight_stb'] = np.where(df['qsmk']==0, df['IP_weight']*pa0, df['IP_weight']*pa1 )\n",
    "\n",
    "df['IP_weight_stb'].describe()"
   ]
  },
  {
   "cell_type": "markdown",
   "id": "47c99ebc-0275-4e15-985b-699ffe86e2dc",
   "metadata": {},
   "source": [
    "Tại sao lại dùng stabilized IP weights? Bởi vì chúng cho khoảng tin cậy 95% của hiệu ứng thiệp nhỏ hơn so với dùng IP weight thông thường.\n",
    "\n",
    "## 4. Ước lượng hiệu ứng nhân quả\n",
    "Sau khi có được IP weight, bạn có thể suy luận hiệu ứng nhân quả của điều trị.  "
   ]
  },
  {
   "cell_type": "code",
   "execution_count": 49,
   "id": "caece916-beab-4324-bfe8-844a359deb41",
   "metadata": {},
   "outputs": [],
   "source": [
    "m2 = LogisticRegression()\n",
    "m2.fit(\n",
    "    X=df[['qsmk']],\n",
    "    y=df['death'].values)\n",
    "\n",
    "m2_w = LogisticRegression()\n",
    "m2_w.fit(\n",
    "    X=df[['qsmk']],\n",
    "    y=df['death'].values,\n",
    "    sample_weight=df['IP_weight_stb']);"
   ]
  },
  {
   "cell_type": "markdown",
   "id": "ec613ef5-4644-4876-8831-db5b1fce2d9a",
   "metadata": {},
   "source": [
    "`m2` là mô hình biased, còn `m2_w` là mô hình causal. Ở mô hình biased, risk ratio của việc hút thuốc là là 0.3"
   ]
  },
  {
   "cell_type": "code",
   "execution_count": 47,
   "id": "64e5d3ab-ee32-4939-bdca-bda7a488b44c",
   "metadata": {},
   "outputs": [
    {
     "data": {
      "text/plain": [
       "array([[0.34897294]])"
      ]
     },
     "execution_count": 47,
     "metadata": {},
     "output_type": "execute_result"
    }
   ],
   "source": [
    "m2.coef_"
   ]
  },
  {
   "cell_type": "code",
   "execution_count": 48,
   "id": "fe4e4a5b-dabd-41eb-8dfb-0fd34968410f",
   "metadata": {},
   "outputs": [
    {
     "data": {
      "text/plain": [
       "array([[-0.00867344]])"
      ]
     },
     "execution_count": 48,
     "metadata": {},
     "output_type": "execute_result"
    }
   ],
   "source": [
    "m2_w.coef_"
   ]
  },
  {
   "cell_type": "code",
   "execution_count": null,
   "id": "dcaf72b9-6b77-4b5f-85c9-495917ae7ef4",
   "metadata": {},
   "outputs": [],
   "source": []
  }
 ],
 "metadata": {
  "kernelspec": {
   "display_name": "Python 3",
   "language": "python",
   "name": "python3"
  },
  "language_info": {
   "codemirror_mode": {
    "name": "ipython",
    "version": 3
   },
   "file_extension": ".py",
   "mimetype": "text/x-python",
   "name": "python",
   "nbconvert_exporter": "python",
   "pygments_lexer": "ipython3",
   "version": "3.8.8"
  }
 },
 "nbformat": 4,
 "nbformat_minor": 5
}
