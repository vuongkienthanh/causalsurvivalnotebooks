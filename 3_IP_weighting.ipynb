{
 "cells": [
  {
   "cell_type": "markdown",
   "id": "compressed-lindsay",
   "metadata": {},
   "source": [
    "# Inverse Probability weighting\n",
    "Bs Vương Kiến Thanh\n",
    "\n",
    "Đây là bài tiếp theo của series Causal Survival Analysis. Ở bài trước tôi đã giới thiệu cách tìm survival curve thông qua phương pháp parametric là fit mô hình logistic.\n",
    "\n",
    "Sau khi fit mô hình, chúng ta có thể suy luận được hiệu ứng của điều trị (`qsmk`: bỏ hút thuốc) tác động lên thời gian sống còn $S(t)$. Tuy nhiên, hiệu ứng đó chỉ thể hiện mối tương quan của nhau nhóm điều trị, chứ không phải hiệu ứng nhân quả.\n",
    "\n",
    "Để tìm hiệu ứng nhân quả, chúng ta có thể áp dụng hai phương pháp: *IP weighting* và *standardization*.\n",
    "\n",
    "## 1. Giới thiệu Inverse probability weighting\n",
    "Tạm gọi là *Trọng số xác suất nghịch*, hay *IP weighting*. Thông thường việc nhận điều trị sẽ bị sai lệch (biased) bởi các hiệp biến. Ví dụ như người già, phụ nữ thì ít hút thuốc hơn. Nhiệm vụ của những *trọng số* này là tạo ra hai mẫu dân số **ảo** (pseudo-population) sao cho xác suất nhận điều trị ở hai mẫu này là bằng nhau.\n",
    "\n",
    "Gọi $L$ là các hiệp biến, $A$ là điều trị, phương pháp làm cho:\n",
    "$$ \\text{Pseudo}: Pr[A|L=l_1] = Pr[A|L=l_2]=... $$\n",
    "\n",
    "Để xem tại sao IP weighting lại làm được, ta xem ví dụ sau:  \n",
    "Trong mẫu nghiên cứu có 20 người, có 2 nhóm hiệp biến`l1` `l2`. Ở nhóm `l1`, xác suất nhận điều trị như nhau nhưng ở nhóm `l2`, xác suất nhận điều trị không tương đồng."
   ]
  },
  {
   "cell_type": "markdown",
   "id": "solid-shock",
   "metadata": {},
   "source": [
    "[![](https://mermaid.ink/img/eyJjb2RlIjoiZ3JhcGggVERcbmEoMjAgbmfGsOG7nWkpXG5hIC0tbF8xLS0tIGIoXCI4ICgwLjQpXCIgKVxuYSAtLWxfMi0tLSBjKFwiMTIgKDAuNilcIilcbmIgLS1cIkE9MFwiLS0tIGQoXCI0ICgwLjUpXCIpXG5iIC0tXCJBPTFcIi0tLSBlKFwiNCAoMC41KVwiKVxuZCAtLVwiWT0wXCItLS0gZigoXCIzICgwLjc1KVwiKSlcbmQgLS1cIlk9MVwiLS0tIGcoKFwiMSAoMC4yNSlcIikpXG5lIC0tXCJZPTBcIi0tLSBoKChcIjMgKDAuNzUpXCIpKVxuZSAtLVwiWT0xXCItLS0gaSgoXCIxICgwLjI1KVwiKSlcbmMgLS1cIkE9MFwiLS0tIGooXCIzICgwLjI1KVwiKVxuYyAtLVwiQT0xXCItLS0gayhcIjkgKDAuNzUpXCIpXG5qIC0tXCJZPTBcIi0tLSBsKChcIjEgKDEvMylcIikpXG5qIC0tXCJZPTFcIi0tLSBtKChcIjIgKDIvMylcIikpXG5rIC0tXCJZPTBcIi0tLSBuKChcIjMgKDEvMylcIikpXG5rIC0tXCJZPTFcIi0tLSBvKChcIjYgKDIvMylcIikpIiwibWVybWFpZCI6eyJ0aGVtZSI6ImRlZmF1bHQifSwidXBkYXRlRWRpdG9yIjpmYWxzZSwiYXV0b1N5bmMiOnRydWUsInVwZGF0ZURpYWdyYW0iOmZhbHNlfQ)](https://mermaid-js.github.io/mermaid-live-editor/edit##eyJjb2RlIjoiZ3JhcGggVERcbmEoMjAgbmfGsOG7nWkpXG4gLS1sXzEtLS0gYihcIjggKDAuNClcIiApXG5hIC0tbF8yLS0tIGMoXCIxMiAoMC42KVwiKVxuYiAtLVwiQT0wXCItLS0gZChcIjQgKDAuNSlcIilcbmIgLS1cIkE9MVwiLS0tIGUoXCI0ICgwLjUpXCIpXG5kIC0tXCJZPTBcIi0tLSBmKChcIjMgKDAuNzUpXCIpKVxuZCAtLVwiWT0xXCItLS0gZygoXCIxICgwLjI1KVwiKSlcbmUgLS1cIlk9MFwiLS0tIGgoKFwiMyAoMC43NSlcIikpXG5lIC0tXCJZPTFcIi0tLSBpKChcIjEgKDAuMjUpXCIpKVxuYyAtLVwiQT0wXCItLS0gaihcIjMgKDAuMjUpXCIpXG5jIC0tXCJBPTFcIi0tLSBrKFwiOSAoMC43NSlcIilcbmogLS1cIlk9MFwiLS0tIGwoKFwiMSAoMS8zKVwiKSlcbmogLS1cIlk9MVwiLS0tIG0oKFwiMiAoMi8zKVwiKSlcbmsgLS1cIlk9MFwiLS0tIG4oKFwiMyAoMS8zKVwiKSlcbmsgLS1cIlk9MVwiLS0tIG8oKFwiNiAoMi8zKVwiKSkiLCJtZXJtYWlkIjoie1xuICBcInRoZW1lXCI6IFwiZGVmYXVsdFwiXG59IiwidXBkYXRlRWRpdG9yIjpmYWxzZSwiYXV0b1N5bmMiOnRydWUsInVwZGF0ZURpYWdyYW0iOmZhbHNlfQ)"
   ]
  },
  {
   "cell_type": "markdown",
   "id": "registered-relay",
   "metadata": {},
   "source": [
    "Bằng cách tính trọng số $W^A = 1/ Pr(A/L)$, ta có thể tạo ra những mẫu ảo để xác suất nhận được điều trị là như nhau."
   ]
  },
  {
   "cell_type": "markdown",
   "id": "joined-attention",
   "metadata": {},
   "source": [
    "[![](https://mermaid.ink/img/eyJjb2RlIjoiZ3JhcGggVERcbmEoXCI0MCBuZ8aw4budaSAo4bqjbylcIilcbmEgLS1sXzEtLS0gYihcIjE2ICgwLjQpXCIgKVxuYSAtLWxfMi0tLSBjKFwiMjQgKDAuNilcIilcbmIgLS1cIkE9MFwiLS0tIGQoOD00KjIpXG5iIC0tXCJBPTFcIi0tLSBlKDg9NCoyKVxuZCAtLVwiWT0wXCItLS0gZigoXCI2ICgwLjc1KVwiKSlcbmQgLS1cIlk9MVwiLS0tIGcoKFwiMiAoMC4yNSlcIikpXG5lIC0tXCJZPTBcIi0tLSBoKChcIjYgKDAuNzUpXCIpKVxuZSAtLVwiWT0xXCItLS0gaSgoXCIyICgwLjI1KVwiKSlcbmMgLS1cIkE9MFwiLS0tIGooXCIxMj0zKjRcIilcbmMgLS1cIkE9MVwiLS0tIGsoXCIxMj05KjEuMzNcIilcbmogLS1cIlk9MFwiLS0tIGwoKFwiNCAoMS8zKVwiKSlcbmogLS1cIlk9MVwiLS0tIG0oKFwiOCAoMi8zKVwiKSlcbmsgLS1cIlk9MFwiLS0tIG4oKFwiNCAoMS8zKVwiKSlcbmsgLS1cIlk9MVwiLS0tIG8oKFwiOCAoMi8zKVwiKSlcbmYgLS4tPiBwWzEvLjU9Ml1cbmcgLS4tPiBxWzEvLjU9Ml1cbmggLS4tPiByWzEvLjU9Ml1cbmkgLS4tPiBzWzEvLjU9Ml1cbmwgLS4tPiB0WzEvLjI1PTRdXG5tIC0uLT4gdVsxLy4yNT00XVxubiAtLi0-IHZbMS8uNzU9MS4zM11cbm8gLS4tPiB3WzEvLjc1PTEuMzNdIiwibWVybWFpZCI6eyJ0aGVtZSI6ImRlZmF1bHQifSwidXBkYXRlRWRpdG9yIjpmYWxzZSwiYXV0b1N5bmMiOnRydWUsInVwZGF0ZURpYWdyYW0iOmZhbHNlfQ)](https://mermaid-js.github.io/mermaid-live-editor/edit##eyJjb2RlIjoiZ3JhcGggVERcbmEoXCI0MCBuZ8aw4budaSAo4bqjbylcIilcbmEgLS1sXzEtLS0gYihcIjE2ICgwLjQpXCIgKVxuYSAtLWxfMi0tLSBjKFwiMjQgKDAuNilcIilcbmIgLS1cIkE9MFwiLS0tIGQoOD00KjIpXG5iIC0tXCJBPTFcIi0tLSBlKDg9NCoyKVxuZCAtLVwiWT0wXCItLS0gZigoXCI2ICgwLjc1KVwiKSlcbmQgLS1cIlk9MVwiLS0tIGcoKFwiMiAoMC4yNSlcIikpXG5lIC0tXCJZPTBcIi0tLSBoKChcIjYgKDAuNzUpXCIpKVxuZSAtLVwiWT0xXCItLS0gaSgoXCIyICgwLjI1KVwiKSlcbmMgLS1cIkE9MFwiLS0tIGooXCIxMj0zKjRcIilcbmMgLS1cIkE9MVwiLS0tIGsoXCIxMj0qMS4zM1wiKVxuaiAtLVwiWT0wXCItLS0gbCgoXCI0ICgxLzMpXCIpKVxuaiAtLVwiWT0xXCItLS0gbSgoXCI4ICgyLzMpXCIpKVxuayAtLVwiWT0wXCItLS0gbigoXCI0ICgxLzMpXCIpKVxuayAtLVwiWT0xXCItLS0gbygoXCI4ICgyLzMpXCIpKVxuZiAtLi0-IHBbMS8uNT0yXVxuZyAtLi0-IHFbMS8uNT0yXVxuaCAtLi0-IHJbMS8uNT0yXVxuaSAtLi0-IHNbMS8uNT0yXVxubCAtLi0-IHRbMS8uMjU9NF1cbm0gLS4tPiB1WzEvLjI1PTRdXG5uIC0uLT4gdlsxLy43NT0xLjMzXVxubyAtLi0-IHdbMS8uNzU9MS4zM10iLCJtZXJtYWlkIjoie1xuICBcInRoZW1lXCI6IFwiZGVmYXVsdFwiXG59IiwidXBkYXRlRWRpdG9yIjpmYWxzZSwiYXV0b1N5bmMiOnRydWUsInVwZGF0ZURpYWdyYW0iOmZhbHNlfQ)"
   ]
  },
  {
   "cell_type": "markdown",
   "id": "speaking-cigarette",
   "metadata": {},
   "source": [
    "## 2. IP weighting khi $L$ có nhiều đặc trưng (features)\n",
    "Trong ví dụ trên chúng ta phương pháp non-parametric để ước lượng IP weights. Tuy nhiên khi số lượng hiệp biến tăng thì chúng ta phải dùng model.  \n",
    "Do điều trị là biến nhị phân nên có thể dùng mô hình đơn giản nhất là logistic. Khi điều trị `A` là biến định lượng như hàm lượng thuốc,.. thì phải dùng mô hình như Gaussian.\n",
    "\n",
    "Bộ dataset tiếp tục là của NHEFS. Trong đó Điều trị (`A`) là `qsmk` (cai hút thuốc lá), Kết cục (`Y`) là `wt82_71` (cân nặng tăng lên từ năm 71 đến năm 82), và 9 hiệp biến còn lại (`L`) là `['age','sex','race','education','wt71','smokeintensity','smokeyrs','exercise','active']`"
   ]
  },
  {
   "cell_type": "code",
   "execution_count": 1,
   "id": "operational-equality",
   "metadata": {},
   "outputs": [],
   "source": [
    "import pandas as pd\n",
    "import numpy as np\n",
    "import matplotlib.pyplot as plt\n",
    "from sklearn.linear_model import LogisticRegression, LinearRegression\n",
    "from sklearn.preprocessing import StandardScaler\n",
    "import numpyro as npr\n",
    "import numpyro.distributions as dist\n",
    "from numpyro.infer import Predictive, SVI, Trace_ELBO\n",
    "from numpyro.infer.autoguide import AutoLaplaceApproximation\n",
    "from numpyro.optim import Adam\n",
    "from numpyro.diagnostics import print_summary\n",
    "import arviz as az\n",
    "import jax.numpy as jnp\n",
    "from jax.scipy.special import expit\n",
    "from jax.random import PRNGKey\n",
    "az.style.use(\"fivethirtyeight\")\n",
    "from pprint import pprint\n",
    "\n",
    "origin= pd.read_csv(\n",
    "    r'https://cdn1.sph.harvard.edu/wp-content/uploads/sites/1268/1268/20/nhefs.csv')"
   ]
  },
  {
   "cell_type": "code",
   "execution_count": 2,
   "id": "engaged-house",
   "metadata": {},
   "outputs": [
    {
     "data": {
      "text/plain": [
       "(1566, 11)"
      ]
     },
     "execution_count": 2,
     "metadata": {},
     "output_type": "execute_result"
    }
   ],
   "source": [
    "struct = {\n",
    "    'A': 'qsmk',\n",
    "    'Y': 'wt82_71',\n",
    "    'continuous': ['age', 'wt71','smokeintensity','smokeyrs'],\n",
    "    'multi_cate': ['education', 'exercise', 'active'],\n",
    "    'binary_cate': ['sex', 'race'],\n",
    "}\n",
    "\n",
    "\n",
    "def get_df(struct):\n",
    "    L = [j for i in ['continuous','multi_cate','binary_cate'] for j in struct[i]]\n",
    "    df = origin[[struct['A'],struct['Y']]+L].copy()\n",
    "    df.dropna(inplace=True)\n",
    "    return df\n",
    "\n",
    "df = get_df(struct)\n",
    "df.shape"
   ]
  },
  {
   "cell_type": "markdown",
   "id": "scientific-french",
   "metadata": {},
   "source": [
    "### Bước 1: Tìm $Pr[A|L]$\n",
    "\n",
    "Ở đây, các biến định lượng được bình phương và standardize, các biến phân nhóm >2 nhóm sẽ được one hot encoding."
   ]
  },
  {
   "cell_type": "code",
   "execution_count": 3,
   "id": "negative-guide",
   "metadata": {},
   "outputs": [
    {
     "name": "stdout",
     "output_type": "stream",
     "text": [
      "{'A': 'qsmk',\n",
      " 'L': ['age_std', 'wt71_std', 'smokeintensity_std', 'smokeyrs_std', 'age^2_std',\n",
      "       'wt71^2_std', 'smokeintensity^2_std', 'smokeyrs^2_std', 'sex', 'race',\n",
      "       'education_1', 'education_2', 'education_3', 'education_5',\n",
      "       'education_4', 'exercise_2', 'exercise_0', 'exercise_1', 'active_0',\n",
      "       'active_1', 'active_2'],\n",
      " 'Y': 'wt82_71_std'}\n"
     ]
    },
    {
     "data": {
      "text/html": [
       "<div>\n",
       "<style scoped>\n",
       "    .dataframe tbody tr th:only-of-type {\n",
       "        vertical-align: middle;\n",
       "    }\n",
       "\n",
       "    .dataframe tbody tr th {\n",
       "        vertical-align: top;\n",
       "    }\n",
       "\n",
       "    .dataframe thead th {\n",
       "        text-align: right;\n",
       "    }\n",
       "</style>\n",
       "<table border=\"1\" class=\"dataframe\">\n",
       "  <thead>\n",
       "    <tr style=\"text-align: right;\">\n",
       "      <th></th>\n",
       "      <th>age_std</th>\n",
       "      <th>wt71_std</th>\n",
       "      <th>smokeintensity_std</th>\n",
       "      <th>smokeyrs_std</th>\n",
       "      <th>age^2_std</th>\n",
       "      <th>wt71^2_std</th>\n",
       "      <th>smokeintensity^2_std</th>\n",
       "      <th>smokeyrs^2_std</th>\n",
       "      <th>wt82_71_std</th>\n",
       "      <th>education_1</th>\n",
       "      <th>education_2</th>\n",
       "      <th>education_3</th>\n",
       "      <th>education_4</th>\n",
       "      <th>education_5</th>\n",
       "      <th>exercise_0</th>\n",
       "      <th>exercise_1</th>\n",
       "      <th>exercise_2</th>\n",
       "      <th>active_0</th>\n",
       "      <th>active_1</th>\n",
       "      <th>active_2</th>\n",
       "    </tr>\n",
       "  </thead>\n",
       "  <tbody>\n",
       "    <tr>\n",
       "      <th>0</th>\n",
       "      <td>-0.138465</td>\n",
       "      <td>0.536190</td>\n",
       "      <td>0.805115</td>\n",
       "      <td>0.367510</td>\n",
       "      <td>-0.261753</td>\n",
       "      <td>0.417621</td>\n",
       "      <td>0.549151</td>\n",
       "      <td>0.139323</td>\n",
       "      <td>-1.616303</td>\n",
       "      <td>1</td>\n",
       "      <td>0</td>\n",
       "      <td>0</td>\n",
       "      <td>0</td>\n",
       "      <td>0</td>\n",
       "      <td>0</td>\n",
       "      <td>0</td>\n",
       "      <td>1</td>\n",
       "      <td>1</td>\n",
       "      <td>0</td>\n",
       "      <td>0</td>\n",
       "    </tr>\n",
       "    <tr>\n",
       "      <th>1</th>\n",
       "      <td>-0.639050</td>\n",
       "      <td>-0.796924</td>\n",
       "      <td>-0.044659</td>\n",
       "      <td>-0.048991</td>\n",
       "      <td>-0.690333</td>\n",
       "      <td>-0.760652</td>\n",
       "      <td>-0.257901</td>\n",
       "      <td>-0.260641</td>\n",
       "      <td>-0.004231</td>\n",
       "      <td>0</td>\n",
       "      <td>1</td>\n",
       "      <td>0</td>\n",
       "      <td>0</td>\n",
       "      <td>0</td>\n",
       "      <td>1</td>\n",
       "      <td>0</td>\n",
       "      <td>0</td>\n",
       "      <td>1</td>\n",
       "      <td>0</td>\n",
       "      <td>0</td>\n",
       "    </tr>\n",
       "    <tr>\n",
       "      <th>2</th>\n",
       "      <td>1.029566</td>\n",
       "      <td>-0.915801</td>\n",
       "      <td>-0.044659</td>\n",
       "      <td>0.117610</td>\n",
       "      <td>0.994683</td>\n",
       "      <td>-0.848756</td>\n",
       "      <td>-0.257901</td>\n",
       "      <td>-0.109711</td>\n",
       "      <td>0.860206</td>\n",
       "      <td>0</td>\n",
       "      <td>1</td>\n",
       "      <td>0</td>\n",
       "      <td>0</td>\n",
       "      <td>0</td>\n",
       "      <td>0</td>\n",
       "      <td>0</td>\n",
       "      <td>1</td>\n",
       "      <td>1</td>\n",
       "      <td>0</td>\n",
       "      <td>0</td>\n",
       "    </tr>\n",
       "    <tr>\n",
       "      <th>3</th>\n",
       "      <td>2.030735</td>\n",
       "      <td>-0.745324</td>\n",
       "      <td>-1.489276</td>\n",
       "      <td>2.366716</td>\n",
       "      <td>2.357349</td>\n",
       "      <td>-0.721545</td>\n",
       "      <td>-0.889015</td>\n",
       "      <td>3.109622</td>\n",
       "      <td>0.298553</td>\n",
       "      <td>1</td>\n",
       "      <td>0</td>\n",
       "      <td>0</td>\n",
       "      <td>0</td>\n",
       "      <td>0</td>\n",
       "      <td>0</td>\n",
       "      <td>0</td>\n",
       "      <td>1</td>\n",
       "      <td>0</td>\n",
       "      <td>1</td>\n",
       "      <td>0</td>\n",
       "    </tr>\n",
       "    <tr>\n",
       "      <th>4</th>\n",
       "      <td>-0.305327</td>\n",
       "      <td>1.061990</td>\n",
       "      <td>-0.044659</td>\n",
       "      <td>-0.465492</td>\n",
       "      <td>-0.411939</td>\n",
       "      <td>0.978420</td>\n",
       "      <td>-0.257901</td>\n",
       "      <td>-0.585140</td>\n",
       "      <td>0.298443</td>\n",
       "      <td>0</td>\n",
       "      <td>1</td>\n",
       "      <td>0</td>\n",
       "      <td>0</td>\n",
       "      <td>0</td>\n",
       "      <td>0</td>\n",
       "      <td>1</td>\n",
       "      <td>0</td>\n",
       "      <td>0</td>\n",
       "      <td>1</td>\n",
       "      <td>0</td>\n",
       "    </tr>\n",
       "  </tbody>\n",
       "</table>\n",
       "</div>"
      ],
      "text/plain": [
       "    age_std  wt71_std  smokeintensity_std  smokeyrs_std  age^2_std  \\\n",
       "0 -0.138465  0.536190            0.805115      0.367510  -0.261753   \n",
       "1 -0.639050 -0.796924           -0.044659     -0.048991  -0.690333   \n",
       "2  1.029566 -0.915801           -0.044659      0.117610   0.994683   \n",
       "3  2.030735 -0.745324           -1.489276      2.366716   2.357349   \n",
       "4 -0.305327  1.061990           -0.044659     -0.465492  -0.411939   \n",
       "\n",
       "   wt71^2_std  smokeintensity^2_std  smokeyrs^2_std  wt82_71_std  education_1  \\\n",
       "0    0.417621              0.549151        0.139323    -1.616303            1   \n",
       "1   -0.760652             -0.257901       -0.260641    -0.004231            0   \n",
       "2   -0.848756             -0.257901       -0.109711     0.860206            0   \n",
       "3   -0.721545             -0.889015        3.109622     0.298553            1   \n",
       "4    0.978420             -0.257901       -0.585140     0.298443            0   \n",
       "\n",
       "   education_2  education_3  education_4  education_5  exercise_0  exercise_1  \\\n",
       "0            0            0            0            0           0           0   \n",
       "1            1            0            0            0           1           0   \n",
       "2            1            0            0            0           0           0   \n",
       "3            0            0            0            0           0           0   \n",
       "4            1            0            0            0           0           1   \n",
       "\n",
       "   exercise_2  active_0  active_1  active_2  \n",
       "0           1         1         0         0  \n",
       "1           0         1         0         0  \n",
       "2           1         1         0         0  \n",
       "3           1         0         1         0  \n",
       "4           0         0         1         0  "
      ]
     },
     "execution_count": 3,
     "metadata": {},
     "output_type": "execute_result"
    }
   ],
   "source": [
    "def transform(df, standardize_A, standardize_Y,\n",
    "              A, Y, continuous, multi_cate, binary_cate):\n",
    "    quadratic = [x+'^2' for x in continuous]\n",
    "    for q,c in zip(quadratic, continuous):\n",
    "        df[q] = df[c]**2\n",
    "        \n",
    "    std_col = continuous + quadratic\n",
    "    if standardize_A:\n",
    "        std_col += [A]\n",
    "        A_ = A + '_std'\n",
    "    else:\n",
    "        A_ = A\n",
    "    if standardize_Y:\n",
    "        std_col += [Y]\n",
    "        Y_ = Y + '_std'\n",
    "    else:\n",
    "        Y_ = Y\n",
    "    scalers = dict()\n",
    "    for col in std_col:\n",
    "        scalers[col] = StandardScaler()\n",
    "        df[col+'_std'] = scalers[col].fit_transform(df[[col]])\n",
    "    continuous_std = [x+'_std' for x in continuous+quadratic]\n",
    "    \n",
    "    \n",
    "    dummies = []\n",
    "    all_cate = binary_cate.copy()\n",
    "    for c in multi_cate:\n",
    "        dummies += [pd.get_dummies(df[c], prefix=c)]\n",
    "        all_cate += [c + '_'+ str(i) for i in df[c].unique()]\n",
    "    df = pd.concat([df] + dummies, axis=1)\n",
    "    \n",
    "    L_ = continuous_std + all_cate\n",
    "    pprint({'A':A_, 'Y':Y_, 'L':L_}, compact=True)\n",
    "    return df, A_, Y_, L_, scalers\n",
    "\n",
    "df, A_, Y_, L_, scalers= transform(\n",
    "    df, False, True,**struct)\n",
    "\n",
    "df.iloc[:,-20:].head()"
   ]
  },
  {
   "cell_type": "markdown",
   "id": "underlying-rover",
   "metadata": {},
   "source": [
    "Việc tìm $Pr [A|L]$ sẽ thông qua mô hình logistic với $A$ là Outcome."
   ]
  },
  {
   "cell_type": "code",
   "execution_count": 4,
   "id": "brave-ireland",
   "metadata": {},
   "outputs": [
    {
     "data": {
      "text/plain": [
       "LogisticRegression()"
      ]
     },
     "execution_count": 4,
     "metadata": {},
     "output_type": "execute_result"
    }
   ],
   "source": [
    "pr_A_L = LogisticRegression()\n",
    "pr_A_L.fit(\n",
    "    X=df[L_],\n",
    "    y=df[A_].values)"
   ]
  },
  {
   "cell_type": "markdown",
   "id": "analyzed-chase",
   "metadata": {},
   "source": [
    "### Bước 2: Nghịch đảo xác suất \n",
    "$W^A=\\frac{1}{ Pr[A=a|L]}$"
   ]
  },
  {
   "cell_type": "code",
   "execution_count": 5,
   "id": "occasional-andrews",
   "metadata": {},
   "outputs": [
    {
     "data": {
      "text/plain": [
       "count    1566.000000\n",
       "mean        1.988256\n",
       "std         1.424939\n",
       "min         1.060002\n",
       "25%         1.235157\n",
       "50%         1.370862\n",
       "75%         1.985283\n",
       "max        15.772046\n",
       "Name: IP_weight, dtype: float64"
      ]
     },
     "execution_count": 5,
     "metadata": {},
     "output_type": "execute_result"
    }
   ],
   "source": [
    "probs = pr_A_L.predict_proba(df[L_])\n",
    "df['IP_weight'] = np.reciprocal(np.where(df[A_]==0, probs[:,0], probs[:,1]))\n",
    "df['IP_weight'].describe()"
   ]
  },
  {
   "cell_type": "markdown",
   "id": "brown-inspiration",
   "metadata": {},
   "source": [
    "## 3. Stabilized IP weights\n",
    "Nhiệm vụ chính của phương pháp này là làm cho $A$ không phụ thuộc vào $L$. Cho nên nếu muốn xác suất nhận được điều trị ở một nhóm ảo là 0.5, bạn có thể dùng $0.5/Pr[A|L]$. Khi đó trọng số sẽ có trung bình là 1 và cho kết quả hiệu ứng là như nhau. Thực vậy, bạn có thể chọn bất kì $p$ nào thỏa $0<p\\leq1$ cho từng mẫu dân số ảo.\n",
    "\n",
    "Một phương pháp thông dụng là dùng chính xác suất điều trị trong dataset gốc cho nhóm (ảo) nhận điều trị, và ngược lại.\n",
    "$$SW^A = \\frac{Pr[A=a]}{Pr[A=a|L]}$$"
   ]
  },
  {
   "cell_type": "code",
   "execution_count": 6,
   "id": "elegant-childhood",
   "metadata": {},
   "outputs": [
    {
     "data": {
      "text/plain": [
       "count    1566.000000\n",
       "mean        0.996309\n",
       "std         0.270424\n",
       "min         0.327348\n",
       "25%         0.870002\n",
       "50%         0.952293\n",
       "75%         1.075782\n",
       "max         4.058834\n",
       "Name: IP_weight_stb, dtype: float64"
      ]
     },
     "execution_count": 6,
     "metadata": {},
     "output_type": "execute_result"
    }
   ],
   "source": [
    "pr_A_0 = (df[A_]==0).sum() / df[A_].size\n",
    "pr_A_1 = 1 - pr_A_0\n",
    "\n",
    "df['IP_weight_stb'] = np.where(df[A_]==0, df['IP_weight']*pr_A_0, df['IP_weight']*pr_A_1 )\n",
    "df['IP_weight_stb'].describe()"
   ]
  },
  {
   "cell_type": "markdown",
   "id": "julian-mixture",
   "metadata": {},
   "source": [
    "## 4. Ước lượng hiệu ứng nhân quả\n",
    "Sau khi có được IP weight, bạn có thể suy luận hiệu ứng nhân quả của điều trị.\n",
    "\n",
    "#### Mô hình biased"
   ]
  },
  {
   "cell_type": "code",
   "execution_count": 7,
   "id": "several-following",
   "metadata": {},
   "outputs": [
    {
     "data": {
      "text/plain": [
       "(-0.082997250484532, array([0.32251537]))"
      ]
     },
     "execution_count": 7,
     "metadata": {},
     "output_type": "execute_result"
    }
   ],
   "source": [
    "m = LinearRegression()\n",
    "m.fit(\n",
    "    X=df[[A_]],\n",
    "    y=df[Y_].values)\n",
    "m.intercept_, m.coef_"
   ]
  },
  {
   "cell_type": "markdown",
   "id": "linear-lincoln",
   "metadata": {},
   "source": [
    "#### Mô hình có IP weight"
   ]
  },
  {
   "cell_type": "code",
   "execution_count": 8,
   "id": "dried-array",
   "metadata": {},
   "outputs": [
    {
     "data": {
      "text/plain": [
       "(-0.1090339882198774, array([0.44100654]))"
      ]
     },
     "execution_count": 8,
     "metadata": {},
     "output_type": "execute_result"
    }
   ],
   "source": [
    "m_w = LinearRegression()\n",
    "m_w.fit(\n",
    "    X=df[[A_]],\n",
    "    y=df[Y_].values,\n",
    "    sample_weight=df['IP_weight'])\n",
    "m_w.intercept_, m_w.coef_"
   ]
  },
  {
   "cell_type": "markdown",
   "id": "pressed-valuation",
   "metadata": {},
   "source": [
    "#### Mô hình có stabiblized IP weight"
   ]
  },
  {
   "cell_type": "code",
   "execution_count": 9,
   "id": "collective-possibility",
   "metadata": {},
   "outputs": [
    {
     "data": {
      "text/plain": [
       "(-0.10903398821987736, array([0.44100654]))"
      ]
     },
     "execution_count": 9,
     "metadata": {},
     "output_type": "execute_result"
    }
   ],
   "source": [
    "m_w_stb = LinearRegression()\n",
    "m_w_stb.fit(\n",
    "    X=df[[A_]],\n",
    "    y=df[Y_].values,\n",
    "    sample_weight=df['IP_weight_stb'])\n",
    "m_w_stb.intercept_, m_w_stb.coef_"
   ]
  },
  {
   "cell_type": "code",
   "execution_count": 10,
   "id": "sorted-profession",
   "metadata": {},
   "outputs": [
    {
     "data": {
      "text/plain": [
       "array([3.46605447])"
      ]
     },
     "execution_count": 10,
     "metadata": {},
     "output_type": "execute_result"
    }
   ],
   "source": [
    "scalers['wt82_71'].scale_*0.44"
   ]
  },
  {
   "cell_type": "markdown",
   "id": "conceptual-russell",
   "metadata": {},
   "source": [
    "Như vậy, sau khi data được cân bằng xác suất nhận điều trị, ta có thể suy luận hiệu ứng nhân quả của điều trị (`qsmk`) lên kết cục (`wt82_71`). Ta có thể sử dụng mô hình cơ bản là linear regression.\n",
    "\n",
    "Theo mô hình nhân quả, khi ngưng hút thuốc lá sẽ tăng trung bình là 0.44 độ lệch chuẩn của `wt82_71` hay 3.4 kg.\n",
    "\n",
    "## 5. Hệ số của biến `qsmk` ở hai mô hình sử dụng IP weight và stabiblized IP weight\n",
    "là bằng nhau. Vậy tại sao lại dùng stabilized IP weights?  \n",
    "\n",
    "Stabilized IP weight thường cho ước lượng khoảng tin cậy hẹp hơn. Nhưng tín ưu việt của nó sẽ rõ hơn khi biến điều trị là định lượng. Thông thường xác suất của biến định lượng là tích phân PDF, rất khó để ước lượng xác suất chính xác.\n",
    "\n",
    "Cho nên khi đó nếu dùng IP weight thì rất nguy hiểm. Việc dùng stabilized IP weight sẽ tránh được vấn đề này.\n",
    "\n",
    "$$SW^A = \\frac{f[A]}{f[A|L]} = \\frac{Pr[A]}{Pr[A|L]}$$\n",
    "\n",
    "Giả sử chúng ta xem xét đến một tập nhỏ trong `df` gồm những người hút ít hơn 25 điếu thuốc lá trong 1 ngày. Biến điều trị $A$ là sự thay đổi số thuốc lá hút trong 1 ngày `smkintensity82_71` tác dụng lên kết cục $D$ là sự tăng cân `wt82_71`. Lúc này $L$ sẽ khác. "
   ]
  },
  {
   "cell_type": "code",
   "execution_count": 11,
   "id": "confident-banner",
   "metadata": {},
   "outputs": [
    {
     "data": {
      "text/plain": [
       "(1162, 11)"
      ]
     },
     "execution_count": 11,
     "metadata": {},
     "output_type": "execute_result"
    }
   ],
   "source": [
    "struct = {\n",
    "    'A': 'smkintensity82_71',\n",
    "    'Y': 'wt82_71',\n",
    "    'continuous': ['age', 'wt71','smokeyrs', 'smokeintensity'],\n",
    "    'multi_cate': ['education', 'exercise', 'active'],\n",
    "    'binary_cate': ['sex', 'race'],\n",
    "}\n",
    "\n",
    "df = get_df(struct)\n",
    "df = df[df['smokeintensity']<=25]\n",
    "df.shape"
   ]
  },
  {
   "cell_type": "code",
   "execution_count": 12,
   "id": "remarkable-alfred",
   "metadata": {},
   "outputs": [
    {
     "name": "stdout",
     "output_type": "stream",
     "text": [
      "{'A': 'smkintensity82_71_std',\n",
      " 'L': ['age_std', 'wt71_std', 'smokeyrs_std', 'smokeintensity_std', 'age^2_std',\n",
      "       'wt71^2_std', 'smokeyrs^2_std', 'smokeintensity^2_std', 'sex', 'race',\n",
      "       'education_2', 'education_1', 'education_3', 'education_5',\n",
      "       'education_4', 'exercise_0', 'exercise_2', 'exercise_1', 'active_0',\n",
      "       'active_1', 'active_2'],\n",
      " 'Y': 'wt82_71_std'}\n"
     ]
    },
    {
     "data": {
      "text/html": [
       "<div>\n",
       "<style scoped>\n",
       "    .dataframe tbody tr th:only-of-type {\n",
       "        vertical-align: middle;\n",
       "    }\n",
       "\n",
       "    .dataframe tbody tr th {\n",
       "        vertical-align: top;\n",
       "    }\n",
       "\n",
       "    .dataframe thead th {\n",
       "        text-align: right;\n",
       "    }\n",
       "</style>\n",
       "<table border=\"1\" class=\"dataframe\">\n",
       "  <thead>\n",
       "    <tr style=\"text-align: right;\">\n",
       "      <th></th>\n",
       "      <th>wt71_std</th>\n",
       "      <th>smokeyrs_std</th>\n",
       "      <th>smokeintensity_std</th>\n",
       "      <th>age^2_std</th>\n",
       "      <th>wt71^2_std</th>\n",
       "      <th>smokeyrs^2_std</th>\n",
       "      <th>smokeintensity^2_std</th>\n",
       "      <th>smkintensity82_71_std</th>\n",
       "      <th>wt82_71_std</th>\n",
       "      <th>education_1</th>\n",
       "      <th>education_2</th>\n",
       "      <th>education_3</th>\n",
       "      <th>education_4</th>\n",
       "      <th>education_5</th>\n",
       "      <th>exercise_0</th>\n",
       "      <th>exercise_1</th>\n",
       "      <th>exercise_2</th>\n",
       "      <th>active_0</th>\n",
       "      <th>active_1</th>\n",
       "      <th>active_2</th>\n",
       "    </tr>\n",
       "  </thead>\n",
       "  <tbody>\n",
       "    <tr>\n",
       "      <th>1</th>\n",
       "      <td>-0.742829</td>\n",
       "      <td>-0.037746</td>\n",
       "      <td>0.789722</td>\n",
       "      <td>-0.706097</td>\n",
       "      <td>-0.716836</td>\n",
       "      <td>-0.258833</td>\n",
       "      <td>0.801960</td>\n",
       "      <td>-0.759065</td>\n",
       "      <td>0.008036</td>\n",
       "      <td>0</td>\n",
       "      <td>1</td>\n",
       "      <td>0</td>\n",
       "      <td>0</td>\n",
       "      <td>0</td>\n",
       "      <td>1</td>\n",
       "      <td>0</td>\n",
       "      <td>0</td>\n",
       "      <td>1</td>\n",
       "      <td>0</td>\n",
       "      <td>0</td>\n",
       "    </tr>\n",
       "    <tr>\n",
       "      <th>2</th>\n",
       "      <td>-0.866289</td>\n",
       "      <td>0.124401</td>\n",
       "      <td>0.789722</td>\n",
       "      <td>0.934800</td>\n",
       "      <td>-0.809730</td>\n",
       "      <td>-0.110677</td>\n",
       "      <td>0.801960</td>\n",
       "      <td>-1.141352</td>\n",
       "      <td>0.886124</td>\n",
       "      <td>0</td>\n",
       "      <td>1</td>\n",
       "      <td>0</td>\n",
       "      <td>0</td>\n",
       "      <td>0</td>\n",
       "      <td>0</td>\n",
       "      <td>0</td>\n",
       "      <td>1</td>\n",
       "      <td>1</td>\n",
       "      <td>0</td>\n",
       "      <td>0</td>\n",
       "    </tr>\n",
       "    <tr>\n",
       "      <th>3</th>\n",
       "      <td>-0.689239</td>\n",
       "      <td>2.313392</td>\n",
       "      <td>-1.825561</td>\n",
       "      <td>2.261787</td>\n",
       "      <td>-0.675602</td>\n",
       "      <td>3.049492</td>\n",
       "      <td>-1.491355</td>\n",
       "      <td>0.578942</td>\n",
       "      <td>0.315601</td>\n",
       "      <td>1</td>\n",
       "      <td>0</td>\n",
       "      <td>0</td>\n",
       "      <td>0</td>\n",
       "      <td>0</td>\n",
       "      <td>0</td>\n",
       "      <td>0</td>\n",
       "      <td>1</td>\n",
       "      <td>0</td>\n",
       "      <td>1</td>\n",
       "      <td>0</td>\n",
       "    </tr>\n",
       "    <tr>\n",
       "      <th>4</th>\n",
       "      <td>1.187761</td>\n",
       "      <td>-0.443115</td>\n",
       "      <td>0.789722</td>\n",
       "      <td>-0.434992</td>\n",
       "      <td>1.116809</td>\n",
       "      <td>-0.577369</td>\n",
       "      <td>0.801960</td>\n",
       "      <td>0.196654</td>\n",
       "      <td>0.315490</td>\n",
       "      <td>0</td>\n",
       "      <td>1</td>\n",
       "      <td>0</td>\n",
       "      <td>0</td>\n",
       "      <td>0</td>\n",
       "      <td>0</td>\n",
       "      <td>1</td>\n",
       "      <td>0</td>\n",
       "      <td>0</td>\n",
       "      <td>1</td>\n",
       "      <td>0</td>\n",
       "    </tr>\n",
       "    <tr>\n",
       "      <th>5</th>\n",
       "      <td>1.995678</td>\n",
       "      <td>-0.280967</td>\n",
       "      <td>-0.748680</td>\n",
       "      <td>-0.212936</td>\n",
       "      <td>2.096741</td>\n",
       "      <td>-0.458844</td>\n",
       "      <td>-0.957617</td>\n",
       "      <td>1.152373</td>\n",
       "      <td>0.241963</td>\n",
       "      <td>0</td>\n",
       "      <td>1</td>\n",
       "      <td>0</td>\n",
       "      <td>0</td>\n",
       "      <td>0</td>\n",
       "      <td>0</td>\n",
       "      <td>1</td>\n",
       "      <td>0</td>\n",
       "      <td>0</td>\n",
       "      <td>1</td>\n",
       "      <td>0</td>\n",
       "    </tr>\n",
       "  </tbody>\n",
       "</table>\n",
       "</div>"
      ],
      "text/plain": [
       "   wt71_std  smokeyrs_std  smokeintensity_std  age^2_std  wt71^2_std  \\\n",
       "1 -0.742829     -0.037746            0.789722  -0.706097   -0.716836   \n",
       "2 -0.866289      0.124401            0.789722   0.934800   -0.809730   \n",
       "3 -0.689239      2.313392           -1.825561   2.261787   -0.675602   \n",
       "4  1.187761     -0.443115            0.789722  -0.434992    1.116809   \n",
       "5  1.995678     -0.280967           -0.748680  -0.212936    2.096741   \n",
       "\n",
       "   smokeyrs^2_std  smokeintensity^2_std  smkintensity82_71_std  wt82_71_std  \\\n",
       "1       -0.258833              0.801960              -0.759065     0.008036   \n",
       "2       -0.110677              0.801960              -1.141352     0.886124   \n",
       "3        3.049492             -1.491355               0.578942     0.315601   \n",
       "4       -0.577369              0.801960               0.196654     0.315490   \n",
       "5       -0.458844             -0.957617               1.152373     0.241963   \n",
       "\n",
       "   education_1  education_2  education_3  education_4  education_5  \\\n",
       "1            0            1            0            0            0   \n",
       "2            0            1            0            0            0   \n",
       "3            1            0            0            0            0   \n",
       "4            0            1            0            0            0   \n",
       "5            0            1            0            0            0   \n",
       "\n",
       "   exercise_0  exercise_1  exercise_2  active_0  active_1  active_2  \n",
       "1           1           0           0         1         0         0  \n",
       "2           0           0           1         1         0         0  \n",
       "3           0           0           1         0         1         0  \n",
       "4           0           1           0         0         1         0  \n",
       "5           0           1           0         0         1         0  "
      ]
     },
     "execution_count": 12,
     "metadata": {},
     "output_type": "execute_result"
    }
   ],
   "source": [
    "df, A_, Y_, L_, scalers= transform(\n",
    "    df, True, True, **struct)\n",
    "\n",
    "df.iloc[:,-20:].head()"
   ]
  },
  {
   "cell_type": "markdown",
   "id": "aggregate-omaha",
   "metadata": {},
   "source": [
    "Tôi lặp lại quy trình tính *IP weight* và *stabilized IP weights* thông qua tìm $Pr[A|L]$ và $Pr[A]$. Điều khác biệt ở đây là:\n",
    "- $Pr[A|L]$ được tìm bằng linear regression\n",
    "- $Pr[A]$ được tìm bằng phân phối Gaussian, thay vì cách đếm tần số."
   ]
  },
  {
   "cell_type": "code",
   "execution_count": 13,
   "id": "blessed-fundamental",
   "metadata": {},
   "outputs": [
    {
     "data": {
      "text/plain": [
       "count     1162.000000\n",
       "mean        61.597939\n",
       "std        956.298523\n",
       "min          2.506629\n",
       "25%          2.600992\n",
       "50%          2.934129\n",
       "75%          4.510791\n",
       "max      22930.542969\n",
       "Name: IP_weight, dtype: float64"
      ]
     },
     "execution_count": 13,
     "metadata": {},
     "output_type": "execute_result"
    }
   ],
   "source": [
    "pr_A_L = LinearRegression()\n",
    "pr_A_L.fit(\n",
    "    X=df[L_],\n",
    "    y=df[A_].values)\n",
    "\n",
    "A_pred = pr_A_L.predict(df[L_])\n",
    "df['IP_weight'] = np.reciprocal(\n",
    "    jnp.exp(\n",
    "        dist.Normal(A_pred).log_prob(df[A_].values)))\n",
    "df['IP_weight'].describe()"
   ]
  },
  {
   "cell_type": "code",
   "execution_count": 14,
   "id": "prime-korean",
   "metadata": {},
   "outputs": [
    {
     "data": {
      "text/plain": [
       "count    1162.000000\n",
       "mean        0.993159\n",
       "std         0.257526\n",
       "min         0.179107\n",
       "25%         0.888988\n",
       "50%         0.997613\n",
       "75%         1.067863\n",
       "max         3.605324\n",
       "Name: IP_weight_stb, dtype: float64"
      ]
     },
     "execution_count": 14,
     "metadata": {},
     "output_type": "execute_result"
    }
   ],
   "source": [
    "pr_A = jnp.exp(dist.Normal().log_prob(df[A_].values))\n",
    "df['IP_weight_stb'] = df['IP_weight'] * pr_A\n",
    "df['IP_weight_stb'].describe()"
   ]
  },
  {
   "cell_type": "markdown",
   "id": "blond-berry",
   "metadata": {},
   "source": [
    "Nếu dùng `IP_weight`, bạn sẽ thấy có một số trọng số cực lớn, điều này ảnh hưởng nguy hiểm đến suy luận tham số. Còn `IP_weight_stb` thì ổn định hơn.\n",
    "\n",
    "Phần đầu tôi dùng pp frequentist, rất khó ước lượng KTC 95%. Bạn cũng có thể dùng `statsmodels`, trong đó có \n",
    "mô hình [**Generalized Estimating Equations**](https://www.statsmodels.org/stable/gee.html) để  ước lượng KTC 95% của các tham số. Bạn cũng có thể dùng pp Bayes."
   ]
  },
  {
   "cell_type": "code",
   "execution_count": 15,
   "id": "authentic-anatomy",
   "metadata": {},
   "outputs": [],
   "source": [
    "def model(smk_int, IP_weight, weight_gain=None):\n",
    "    a = npr.sample('a', dist.Normal(0,1))\n",
    "    bs = npr.sample('bs', dist.Normal(0,1))\n",
    "    bs2 = npr.sample('bs2', dist.Normal(0,1))\n",
    "    linear = a + bs*smk_int + bs2*smk_int**2\n",
    "    npr.factor('weight_gain', IP_weight*dist.Normal(linear).log_prob(weight_gain))\n",
    "\n",
    "def svi_run(model, data):\n",
    "    guide = AutoLaplaceApproximation(model)\n",
    "    svi = SVI(model, guide, Adam(1), Trace_ELBO(), **data)\n",
    "    params = svi.run(PRNGKey(1), 2000).params\n",
    "    samples = guide.sample_posterior(PRNGKey(2), params, (2000,))\n",
    "    print_summary(samples, 0.95, False)\n",
    "    return samples"
   ]
  },
  {
   "cell_type": "code",
   "execution_count": 16,
   "id": "bound-simon",
   "metadata": {},
   "outputs": [
    {
     "name": "stderr",
     "output_type": "stream",
     "text": [
      "100%|██████████| 2000/2000 [00:02<00:00, 699.26it/s, init loss: 44205732.0000, avg. loss [1901-2000]: 1053.1201] \n"
     ]
    },
    {
     "name": "stdout",
     "output_type": "stream",
     "text": [
      "\n",
      "                mean       std    median      2.5%     97.5%     n_eff     r_hat\n",
      "         a      1.00      0.03      1.00      0.93      1.06   1673.15      1.00\n",
      "        bs     -0.00      0.00      0.00     -0.01      0.01   2028.23      1.00\n",
      "       bs2      0.00      0.00      0.00     -0.00      0.00   1922.77      1.00\n",
      "\n"
     ]
    }
   ],
   "source": [
    "# mo hinh biased\n",
    "data = {\n",
    "    'smk_int': df['smkintensity82_71'].values,  \n",
    "    'IP_weight': df['IP_weight_stb'].values,\n",
    "    'weight_gain': 1\n",
    "}\n",
    "samples1 = svi_run(model, data)"
   ]
  },
  {
   "cell_type": "code",
   "execution_count": 17,
   "id": "cross-evolution",
   "metadata": {},
   "outputs": [
    {
     "name": "stderr",
     "output_type": "stream",
     "text": [
      "100%|██████████| 2000/2000 [00:03<00:00, 655.50it/s, init loss: 44610200.0000, avg. loss [1901-2000]: 34945.7812] \n"
     ]
    },
    {
     "name": "stdout",
     "output_type": "stream",
     "text": [
      "\n",
      "                mean       std    median      2.5%     97.5%     n_eff     r_hat\n",
      "         a      1.93      0.03      1.93      1.87      2.00   1673.15      1.00\n",
      "        bs     -0.10      0.00     -0.10     -0.11     -0.10   2028.23      1.00\n",
      "       bs2      0.00      0.00      0.00      0.00      0.00   1922.77      1.00\n",
      "\n"
     ]
    }
   ],
   "source": [
    "# su dung IP weight stabilized\n",
    "data = {\n",
    "    'smk_int': df['smkintensity82_71'].values,  \n",
    "    'IP_weight': df['IP_weight_stb'].values,\n",
    "    'weight_gain': df['wt82_71'].values\n",
    "}\n",
    "samples2 = svi_run(model, data)"
   ]
  },
  {
   "cell_type": "code",
   "execution_count": 18,
   "id": "alpha-footage",
   "metadata": {
    "tags": []
   },
   "outputs": [
    {
     "data": {
      "text/plain": [
       "(1.9341924890594984, array([-0.10177574,  0.00344816]))"
      ]
     },
     "execution_count": 18,
     "metadata": {},
     "output_type": "execute_result"
    }
   ],
   "source": [
    "# pp frequentist\n",
    "df['smkintensity82_71^2'] = df['smkintensity82_71']**2\n",
    "ols = LinearRegression()\n",
    "ols.fit(\n",
    "    X=df[['smkintensity82_71','smkintensity82_71^2']],\n",
    "    y=df['wt82_71'].values,\n",
    "    sample_weight=df['IP_weight_stb']\n",
    ")\n",
    "ols.intercept_, ols.coef_"
   ]
  },
  {
   "cell_type": "code",
   "execution_count": 19,
   "id": "educated-dynamics",
   "metadata": {},
   "outputs": [
    {
     "data": {
      "text/html": [
       "<table class=\"simpletable\">\n",
       "<tr>\n",
       "           <td></td>              <th>coef</th>     <th>std err</th>      <th>z</th>      <th>P>|z|</th>  <th>[0.025</th>    <th>0.975]</th>  \n",
       "</tr>\n",
       "<tr>\n",
       "  <th>const</th>               <td>    1.8874</td> <td>    0.266</td> <td>    7.108</td> <td> 0.000</td> <td>    1.367</td> <td>    2.408</td>\n",
       "</tr>\n",
       "<tr>\n",
       "  <th>smkintensity82_71</th>   <td>   -0.0628</td> <td>    0.024</td> <td>   -2.568</td> <td> 0.010</td> <td>   -0.111</td> <td>   -0.015</td>\n",
       "</tr>\n",
       "<tr>\n",
       "  <th>smkintensity82_71^2</th> <td>    0.0046</td> <td>    0.002</td> <td>    2.950</td> <td> 0.003</td> <td>    0.002</td> <td>    0.008</td>\n",
       "</tr>\n",
       "</table>"
      ],
      "text/plain": [
       "<class 'statsmodels.iolib.table.SimpleTable'>"
      ]
     },
     "execution_count": 19,
     "metadata": {},
     "output_type": "execute_result"
    }
   ],
   "source": [
    "# hoac GEE\n",
    "import statsmodels.api as sm\n",
    "gee = sm.GEE(\n",
    "    endog=df['wt82_71'].values,\n",
    "    exog=sm.add_constant(df[['smkintensity82_71','smkintensity82_71^2']]),\n",
    "    groups=df.index,\n",
    "    weight=df['IP_weight_stb']\n",
    ")\n",
    "gee.fit().summary().tables[1]"
   ]
  },
  {
   "cell_type": "code",
   "execution_count": 20,
   "id": "objective-breakfast",
   "metadata": {},
   "outputs": [
    {
     "data": {
      "image/png": "[encoded data removed]",
      "text/plain": [
       "<Figure size 864x288 with 1 Axes>"
      ]
     },
     "metadata": {},
     "output_type": "display_data"
    }
   ],
   "source": [
    "plt.figure(figsize=(12,4))\n",
    "plt.scatter(df['smkintensity82_71'], df['wt82_71'], alpha=0.2)\n",
    "x = jnp.linspace(-20, 40, 50)\n",
    "y = lambda s,x: s['a'].mean() + s['bs'].mean()*x + s['bs2'].mean()*x**2\n",
    "plt.plot(x, y(samples1, x), c=\"C1\", label='biased', lw=2)\n",
    "plt.plot(x, y(samples2, x), c='C5', ls='dashed', label='causal')\n",
    "plt.xlabel('smkintensity82_71')\n",
    "plt.ylabel('wt82_71')\n",
    "plt.legend();"
   ]
  },
  {
   "cell_type": "markdown",
   "id": "relative-sigma",
   "metadata": {},
   "source": [
    "## 6. Thêm hiệp biến vào mô hình causal\n",
    "Một vài hiệp biến trong $L$, như $V$, có thể thêm vào mô hình causal (effect modification). Chẳng hạn, sự tăng cân sẽ thay đổi tuỳ vào đối tượng là phụ nữ và đàn ông. \n",
    "\n",
    "Trong trường hợp đó, bạn nên sử dụng stabilized như sau:\n",
    "$$SW^A(V) = \\frac{f[A|V]}{f[A|L]} $$\n",
    "$$ Pr[Y^a|V] = \\beta_0 + \\beta_1a + \\beta_2aV + \\beta_3V$$\n",
    "\n",
    "Bạn sẽ phải fit mô hình cho $f[A|V]$.\n",
    "\n",
    "## 7. Vấn đề censoring\n",
    "Trong bài này, chúng ta chỉ sử dụng những đối tượng được lưu trữ thông tin cân nặng cuối kỳ nghiên cứu. Nhưng việc loại bỏ những đối tượng bị mất thông tin có thể gây ra selection bias. Hiệu ứng bias của việc mất thông tin (censoring) này có thể được điều chỉnh bằng IP weight.\n",
    "\n",
    "Để đánh dấu censoring, bạn có thể dùng thên biến `C`. `C=0` tức là không bị censored. Đa số data có `C=0`. `C=1` tức là những đối tượng bị mất thông tin liên lạc,.. hay bị censored.\n",
    "\n",
    "$$ SW^{A,C} = SW^A * SW^C$$\n",
    "$$ SW^C = \\frac{Pr[C=0|A]}{Pr[C=0|A,L]} $$"
   ]
  }
 ],
 "metadata": {
  "kernelspec": {
   "display_name": "Python 3",
   "language": "python",
   "name": "python3"
  },
  "language_info": {
   "codemirror_mode": {
    "name": "ipython",
    "version": 3
   },
   "file_extension": ".py",
   "mimetype": "text/x-python",
   "name": "python",
   "nbconvert_exporter": "python",
   "pygments_lexer": "ipython3",
   "version": "3.8.8"
  },
  "toc-autonumbering": false,
  "toc-showcode": false,
  "toc-showmarkdowntxt": false,
  "toc-showtags": false
 },
 "nbformat": 4,
 "nbformat_minor": 5
}
